{
 "cells": [
  {
   "cell_type": "code",
   "execution_count": 38,
   "id": "7d1922ff",
   "metadata": {},
   "outputs": [],
   "source": [
    "import pandas as pd\n",
    "import glob\n",
    "import os\n",
    "import matplotlib.pyplot as plt\n",
    "import numpy as np"
   ]
  },
  {
   "cell_type": "code",
   "execution_count": 2,
   "id": "572621ca",
   "metadata": {},
   "outputs": [],
   "source": [
    "# Path to the directory containing CSV files\n",
    "directory_path = '/Users/physarah/Desktop/cleaned_data/'\n",
    "\n",
    "# List all CSV files in the directory\n",
    "csv_files = glob.glob(directory_path + '*.csv')\n",
    "\n",
    "# Initialize an empty list to store individual DataFrames\n",
    "dfs = []\n",
    "\n",
    "# Loop through each CSV file and read it into a DataFrame\n",
    "for file in csv_files:\n",
    "    df = pd.read_csv(file)\n",
    "    dfs.append(df)\n",
    "\n",
    "# Concatenate all DataFrames into a single DataFrame\n",
    "final_dataframe = pd.concat(dfs, ignore_index=True)\n",
    "\n",
    "# Display the resulting DataFrame\n",
    "#print(final_dataframe)"
   ]
  },
  {
   "cell_type": "code",
   "execution_count": 4,
   "id": "352a53c2",
   "metadata": {},
   "outputs": [
    {
     "data": {
      "text/plain": [
       "Index(['Unnamed: 0.1', 'Unnamed: 0', 'source_mean', 'source_median',\n",
       "       'source_sum', 'source_rate', 'sky_mean', 'sky_median', 'sky_sum',\n",
       "       'sky_rate', 'target_mean', 'target_median', 'target_sum', 'target_rate',\n",
       "       'sc_area', 'bk_area', 'exposure_time', 'datetimes_sat', 'gains_sat',\n",
       "       'airmass', 'm_inst', 'm_inst_sky', 'calibed_mags', 'altitude',\n",
       "       'azimuth', 'utc', 'zenith_angle', 'km_distance', 'sunsep'],\n",
       "      dtype='object')"
      ]
     },
     "execution_count": 4,
     "metadata": {},
     "output_type": "execute_result"
    }
   ],
   "source": [
    "final_dataframe.columns"
   ]
  },
  {
   "cell_type": "code",
   "execution_count": 22,
   "id": "475d04a6",
   "metadata": {},
   "outputs": [],
   "source": [
    "# Path to the directory containing CSV files\n",
    "directory_path = '/Users/physarah/Desktop/cleaned_data/'\n",
    "\n",
    "# List all CSV files in the directory\n",
    "csv_files = glob.glob(directory_path + '*.csv')\n",
    "\n",
    "# Initialize an empty list to store individual DataFrames\n",
    "dfs = []\n",
    "\n",
    "# Loop through each CSV file and read it into a DataFrame\n",
    "for file in csv_files:\n",
    "    df = pd.read_csv(file)\n",
    "    file_name = os.path.basename(file)\n",
    "    desired_part = file_name.split('-P1')[0]\n",
    "    desired_part_norad = file_name.split('-')[2].rstrip('UP1cleaned.csv')\n",
    "    sat_names = [desired_part]*len(df['datetimes_sat'])\n",
    "    norad_id = [desired_part_norad]*len(df['datetimes_sat'])\n",
    "\n",
    "    df['sat_name'] = sat_names\n",
    "    df['norad_id'] = norad_id\n",
    "    dfs.append(df)"
   ]
  },
  {
   "cell_type": "code",
   "execution_count": 23,
   "id": "17d7e028",
   "metadata": {},
   "outputs": [],
   "source": [
    "final_dataframe = pd.concat(dfs, ignore_index=True)\n"
   ]
  },
  {
   "cell_type": "code",
   "execution_count": 19,
   "id": "6de89ed0",
   "metadata": {},
   "outputs": [
    {
     "data": {
      "text/plain": [
       "<matplotlib.collections.PathCollection at 0x7f9d41585d90>"
      ]
     },
     "execution_count": 19,
     "metadata": {},
     "output_type": "execute_result"
    },
    {
     "data": {
      "image/png": "[encoded data removed]",
      "text/plain": [
       "<Figure size 640x480 with 1 Axes>"
      ]
     },
     "metadata": {},
     "output_type": "display_data"
    }
   ],
   "source": [
    "plt.scatter(pd.to_datetime(final_dataframe['datetimes_sat']),final_dataframe['calibed_mags'])"
   ]
  },
  {
   "cell_type": "code",
   "execution_count": 21,
   "id": "2c2221b0",
   "metadata": {},
   "outputs": [
    {
     "data": {
      "text/plain": [
       "(array([ 1.,  0.,  0.,  0.,  0.,  0.,  1.,  1.,  0.,  0.,  0.,  0.,  0.,\n",
       "         0.,  0.,  0.,  1.,  0.,  0.,  0.,  0.,  0.,  1.,  0.,  0.,  0.,\n",
       "         0.,  2.,  3.,  2.,  9.,  9.,  9., 11., 12., 13., 11., 19., 16.,\n",
       "        27., 28., 26., 25., 22., 29., 30., 29., 28., 26., 31., 31., 33.,\n",
       "        34., 31., 23., 32., 19., 24., 15., 14., 22., 16., 10., 17., 10.,\n",
       "        12., 13.,  8., 17.,  8., 10., 10.,  5.,  7.,  3.,  6., 11.,  6.,\n",
       "         5.,  3.,  2.,  3.,  5.,  2.,  1.,  0.,  0.,  0.,  3.,  3.,  0.,\n",
       "         0.,  0.,  0.,  1.,  0.,  0.,  0.,  0.,  1.]),\n",
       " array([1.19871829, 1.24647371, 1.29422914, 1.34198457, 1.38974   ,\n",
       "        1.43749542, 1.48525085, 1.53300628, 1.58076171, 1.62851713,\n",
       "        1.67627256, 1.72402799, 1.77178342, 1.81953884, 1.86729427,\n",
       "        1.9150497 , 1.96280513, 2.01056056, 2.05831598, 2.10607141,\n",
       "        2.15382684, 2.20158227, 2.24933769, 2.29709312, 2.34484855,\n",
       "        2.39260398, 2.4403594 , 2.48811483, 2.53587026, 2.58362569,\n",
       "        2.63138111, 2.67913654, 2.72689197, 2.7746474 , 2.82240282,\n",
       "        2.87015825, 2.91791368, 2.96566911, 3.01342453, 3.06117996,\n",
       "        3.10893539, 3.15669082, 3.20444624, 3.25220167, 3.2999571 ,\n",
       "        3.34771253, 3.39546795, 3.44322338, 3.49097881, 3.53873424,\n",
       "        3.58648966, 3.63424509, 3.68200052, 3.72975595, 3.77751137,\n",
       "        3.8252668 , 3.87302223, 3.92077766, 3.96853308, 4.01628851,\n",
       "        4.06404394, 4.11179937, 4.15955479, 4.20731022, 4.25506565,\n",
       "        4.30282108, 4.3505765 , 4.39833193, 4.44608736, 4.49384279,\n",
       "        4.54159821, 4.58935364, 4.63710907, 4.6848645 , 4.73261992,\n",
       "        4.78037535, 4.82813078, 4.87588621, 4.92364163, 4.97139706,\n",
       "        5.01915249, 5.06690792, 5.11466334, 5.16241877, 5.2101742 ,\n",
       "        5.25792963, 5.30568505, 5.35344048, 5.40119591, 5.44895134,\n",
       "        5.49670676, 5.54446219, 5.59221762, 5.63997305, 5.68772847,\n",
       "        5.7354839 , 5.78323933, 5.83099476, 5.87875018, 5.92650561,\n",
       "        5.97426104]),\n",
       " <BarContainer object of 100 artists>)"
      ]
     },
     "execution_count": 21,
     "metadata": {},
     "output_type": "execute_result"
    },
    {
     "data": {
      "image/png": "[encoded data removed]",
      "text/plain": [
       "<Figure size 640x480 with 1 Axes>"
      ]
     },
     "metadata": {},
     "output_type": "display_data"
    }
   ],
   "source": [
    "plt.hist(final_dataframe['calibed_mags'], bins = 100)"
   ]
  },
  {
   "cell_type": "code",
   "execution_count": 26,
   "id": "1f1e9861",
   "metadata": {},
   "outputs": [],
   "source": [
    "norad_id_sats = pd.read_csv('/Users/physarah/Development/satellite-optical-brightness/data/brightness_config_list.csv')"
   ]
  },
  {
   "cell_type": "code",
   "execution_count": 34,
   "id": "51d39950",
   "metadata": {},
   "outputs": [],
   "source": [
    "sat_ids = list(norad_id_sats['# This file contains a list of NORAD CAT IDs'][6:])"
   ]
  },
  {
   "cell_type": "code",
   "execution_count": 39,
   "id": "0df885d4",
   "metadata": {},
   "outputs": [],
   "source": [
    "final_dataframe['v_type'] = np.where(final_dataframe['norad_id'].isin(sat_ids), 'V1.5', 'V1')"
   ]
  },
  {
   "cell_type": "code",
   "execution_count": 42,
   "id": "a642d1b4",
   "metadata": {},
   "outputs": [],
   "source": [
    "final_dataframe_v15 = final_dataframe[final_dataframe['v_type']=='V1.5']\n",
    "final_dataframe_v1 = final_dataframe[final_dataframe['v_type']=='V1']"
   ]
  },
  {
   "cell_type": "code",
   "execution_count": 45,
   "id": "b3702b48",
   "metadata": {},
   "outputs": [
    {
     "data": {
      "text/plain": [
       "(array([ 3.,  1.,  1.,  2.,  9., 26., 15.,  7.,  4.,  1.]),\n",
       " array([1.19871829, 1.62246749, 2.0462167 , 2.4699659 , 2.89371511,\n",
       "        3.31746431, 3.74121352, 4.16496272, 4.58871192, 5.01246113,\n",
       "        5.43621033]),\n",
       " <BarContainer object of 10 artists>)"
      ]
     },
     "execution_count": 45,
     "metadata": {},
     "output_type": "execute_result"
    },
    {
     "data": {
      "image/png": "[encoded data removed]",
      "text/plain": [
       "<Figure size 640x480 with 1 Axes>"
      ]
     },
     "metadata": {},
     "output_type": "display_data"
    }
   ],
   "source": [
    "plt.hist(final_dataframe_v15['calibed_mags'], bins = 10)"
   ]
  },
  {
   "cell_type": "code",
   "execution_count": 58,
   "id": "0b71afbc",
   "metadata": {},
   "outputs": [
    {
     "data": {
      "image/png": "[encoded data removed]",
      "text/plain": [
       "<Figure size 640x480 with 1 Axes>"
      ]
     },
     "metadata": {},
     "output_type": "display_data"
    }
   ],
   "source": [
    "plt.hist(final_dataframe_v15['calibed_mags'], bins = 10, density=True, alpha = 0.5, label = \"V1.5\")\n",
    "plt.hist(final_dataframe_v1['calibed_mags'], bins = 10, density=True, alpha = 0.5, label = \"Other\")\n",
    "plt.legend()\n",
    "plt.xlabel(\"Huntsman r' mag\")\n",
    "plt.savefig(\"/Users/physarah/Desktop/version_comparison.png\")\n"
   ]
  },
  {
   "cell_type": "code",
   "execution_count": null,
   "id": "f138e43d",
   "metadata": {},
   "outputs": [],
   "source": []
  },
  {
   "cell_type": "code",
   "execution_count": null,
   "id": "28d20e7a",
   "metadata": {},
   "outputs": [],
   "source": []
  }
 ],
 "metadata": {
  "kernelspec": {
   "display_name": "Python 3 (ipykernel)",
   "language": "python",
   "name": "python3"
  },
  "language_info": {
   "codemirror_mode": {
    "name": "ipython",
    "version": 3
   },
   "file_extension": ".py",
   "mimetype": "text/x-python",
   "name": "python",
   "nbconvert_exporter": "python",
   "pygments_lexer": "ipython3",
   "version": "3.8.16"
  }
 },
 "nbformat": 4,
 "nbformat_minor": 5
}
