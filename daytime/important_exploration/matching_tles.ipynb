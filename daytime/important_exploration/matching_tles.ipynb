{
 "cells": [
  {
   "cell_type": "code",
   "execution_count": 1,
   "id": "9df5aa82",
   "metadata": {},
   "outputs": [],
   "source": [
    "import pandas as pd\n",
    "import glob\n",
    "import os\n",
    "import matplotlib.pyplot as plt\n",
    "import numpy as np"
   ]
  },
  {
   "cell_type": "code",
   "execution_count": 47,
   "id": "0b03b580",
   "metadata": {},
   "outputs": [],
   "source": [
    "data = pd.read_csv(\"/Users/physarah/Desktop/cleaned_data/cleaned_satelite_data.csv\")\n",
    "\n",
    "data['norad_id'] = [norad_id.rstrip('C') for norad_id in data['norad_id']]\n",
    "data['norad_id'] = [norad_id + '1' if norad_id == '5374' else norad_id for norad_id in data['norad_id']]\n",
    "data['norad_id'] = [norad_id + '1' if norad_id == '5084' else norad_id for norad_id in data['norad_id']]"
   ]
  },
  {
   "cell_type": "code",
   "execution_count": 48,
   "id": "2570fb6c",
   "metadata": {},
   "outputs": [],
   "source": [
    "# Function to format norad_id to the desired string format\n",
    "def format_filename(norad_id):\n",
    "    return f'sat{str(norad_id).zfill(9)}.txt'\n",
    "\n",
    "# Apply the function to create the new 'filename' column\n",
    "data['tle_filename'] = data['norad_id'].apply(format_filename)"
   ]
  },
  {
   "cell_type": "code",
   "execution_count": 26,
   "id": "b8236de8",
   "metadata": {},
   "outputs": [
    {
     "name": "stdout",
     "output_type": "stream",
     "text": [
      "Line 9: ['STARLINK-30710']\n",
      "Line 10: ['1 57938U 23148D   24018.28979593  .00000604  00000+0  43942-4 0  9992']\n",
      "Line 11: ['2 57938  53.0573  41.3767 0001570 107.4299 252.6867 15.18675771 18979']\n"
     ]
    }
   ],
   "source": [
    "# Initialize three lists for lines 9, 10, and 11\n",
    "line_9_list = []\n",
    "line_10_list = []\n",
    "line_11_list = []\n",
    "\n",
    "# Open the file in read mode\n",
    "with open(file_path, 'r') as file:\n",
    "    # Iterate through each line and append to the respective lists\n",
    "    for i, line in enumerate(file, 1):\n",
    "        if i == 10:\n",
    "            line_9_list.append(line.strip())\n",
    "        elif i == 11:\n",
    "            line_10_list.append(line.strip())\n",
    "        elif i == 12:\n",
    "            line_11_list.append(line.strip())\n",
    "\n",
    "# Display the contents of the lists\n",
    "print(\"Line 9:\", line_9_list)\n",
    "print(\"Line 10:\", line_10_list)\n",
    "print(\"Line 11:\", line_11_list)"
   ]
  },
  {
   "cell_type": "code",
   "execution_count": null,
   "id": "36dd23f7",
   "metadata": {},
   "outputs": [],
   "source": []
  },
  {
   "cell_type": "code",
   "execution_count": 49,
   "id": "60d568ad",
   "metadata": {},
   "outputs": [],
   "source": [
    "line_9_list = []\n",
    "line_10_list = []\n",
    "line_11_list = []\n",
    "\n",
    "for i in data['tle_filename']:\n",
    "    file_path = f'/Users/physarah/Desktop/ephemris/{i}'\n",
    "    line_count = sum(1 for line in open(file_path))\n",
    "    if line_count/3 == 5:   \n",
    "        with open(file_path, 'r') as file:\n",
    "            # Iterate through each line and append to the respective lists\n",
    "            for i, line in enumerate(file, 1):\n",
    "                if i == 7:\n",
    "                    line_9_list.append(line.strip())\n",
    "                elif i == 8:\n",
    "                    line_10_list.append(line.strip())\n",
    "                elif i == 9:\n",
    "                    line_11_list.append(line.strip())\n",
    "    else:\n",
    "        with open(file_path, 'r') as file:\n",
    "            # Iterate through each line and append to the respective lists\n",
    "            for i, line in enumerate(file, 1):\n",
    "                if i == 10:\n",
    "                    line_9_list.append(line.strip())\n",
    "                elif i == 11:\n",
    "                    line_10_list.append(line.strip())\n",
    "                elif i == 12:\n",
    "                    line_11_list.append(line.strip())\n",
    "\n",
    "    "
   ]
  },
  {
   "cell_type": "code",
   "execution_count": 51,
   "id": "52c7e5ab",
   "metadata": {},
   "outputs": [],
   "source": [
    "data['tle1'] = line_9_list\n",
    "data['tle2'] = line_10_list\n",
    "data['tle3'] = line_11_list"
   ]
  },
  {
   "cell_type": "code",
   "execution_count": null,
   "id": "bc4cd159",
   "metadata": {},
   "outputs": [],
   "source": [
    "data.to_csv()"
   ]
  }
 ],
 "metadata": {
  "kernelspec": {
   "display_name": "Python 3 (ipykernel)",
   "language": "python",
   "name": "python3"
  },
  "language_info": {
   "codemirror_mode": {
    "name": "ipython",
    "version": 3
   },
   "file_extension": ".py",
   "mimetype": "text/x-python",
   "name": "python",
   "nbconvert_exporter": "python",
   "pygments_lexer": "ipython3",
   "version": "3.8.16"
  }
 },
 "nbformat": 4,
 "nbformat_minor": 5
}
