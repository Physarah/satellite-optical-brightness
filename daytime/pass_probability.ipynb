{
 "cells": [
  {
   "cell_type": "code",
   "execution_count": 103,
   "id": "b9d86550-6a9c-4a24-b242-cb13aa7dfd86",
   "metadata": {},
   "outputs": [],
   "source": [
    "import pandas as pd\n",
    "import numpy as np \n",
    "import matplotlib.pyplot as plt\n",
    "import pytz\n",
    "import astropy\n",
    "import sys\n",
    "import astropy.units as u\n",
    "from skyfield.api import Topos, load, EarthSatellite\n",
    "from datetime import datetime, timedelta\n",
    "from astropy.coordinates import get_body, get_sun, EarthLocation, SkyCoord, AltAz\n",
    "import lumos.calculator\n",
    "import lumos.conversions\n",
    "import json\n",
    "import os\n",
    "sys.path.append('/Users/physarah/Development/satellite-optical-brightness/analysis')\n",
    "\n",
    "import satellite_models.diffuse_sphere as diffuse_sphere\n",
    "import satellite_models.starlink_v1p5 as starlink_v1p5\n",
    "\n",
    "def append_record(record, file):\n",
    "    with open(file, 'a') as f:\n",
    "        json.dump(record, f)\n",
    "        f.write(os.linesep)"
   ]
  },
  {
   "cell_type": "code",
   "execution_count": 2,
   "id": "48f31a03-408e-48b3-a566-24680d2f1116",
   "metadata": {},
   "outputs": [],
   "source": [
    "observer_location = Topos('33.7703 S', '151.1112 E', elevation_m=70)\n",
    "macquarie_observatory = EarthLocation(lat=-33.7703*u.deg, lon=151.1112*u.deg, height=70*u.m)\n",
    "\n",
    "sat_cat = \"/Users/physarah/Development/satellite-optical-brightness/data/brightness_config_list.csv\"\n",
    "open_list = pd.read_csv(sat_cat)\n",
    "ts = load.timescale()"
   ]
  },
  {
   "cell_type": "code",
   "execution_count": 3,
   "id": "2a38bc5a-5468-4d31-988c-9d70ee4dffb6",
   "metadata": {},
   "outputs": [],
   "source": [
    "cleaned_list = open_list[6:-1]"
   ]
  },
  {
   "cell_type": "code",
   "execution_count": 4,
   "id": "7b36d769-03dd-4282-a0dd-14e743f6f859",
   "metadata": {},
   "outputs": [],
   "source": [
    "list_of_sats = cleaned_list['# This file contains a list of NORAD CAT IDs'].to_list()"
   ]
  },
  {
   "cell_type": "code",
   "execution_count": 5,
   "id": "ae324e54-a22f-4780-a80d-2c621459cc0f",
   "metadata": {},
   "outputs": [],
   "source": [
    "pos_url = 'https://celestrak.org/NORAD/elements/gp.php?GROUP=starlink&FORMAT=tle'\n",
    "sats_all = load.tle(pos_url)"
   ]
  },
  {
   "cell_type": "code",
   "execution_count": 36,
   "id": "5125b6ec-1369-4ac5-b5b1-ccbaf2446b1d",
   "metadata": {},
   "outputs": [],
   "source": [
    "def generate_datetime_range(start_time, end_time, interval):\n",
    "    \"\"\"\n",
    "    Generate a list of datetimes between start_time and end_time at a given interval.\n",
    "    \"\"\"\n",
    "    current_time = start_time\n",
    "    datetime_list = []\n",
    "\n",
    "    while current_time <= end_time:\n",
    "        datetime_list.append(current_time)# - timedelta(hours = time_delta))\n",
    "        current_time += interval\n",
    "\n",
    "    return datetime_list\n",
    "\n",
    "start_time = datetime(2024, 1, 9, 0, 0, 1)  \n",
    "end_time = datetime(2024, 1, 10, 0, 0, 1)   \n",
    "time_interval = timedelta(minutes=1)          \n",
    "\n",
    "list_of_times = generate_datetime_range(start_time, end_time, time_interval)\n",
    "times = []\n",
    "for timestamp_pd in list_of_times:\n",
    "    TIME_PD = timestamp_pd.replace(tzinfo=pytz.utc)\n",
    "    time_sf = ts.utc(TIME_PD)\n",
    "    times.append(time_sf)"
   ]
  },
  {
   "cell_type": "code",
   "execution_count": 70,
   "id": "4ad19bdd-2d85-4475-8e68-30afb3756bce",
   "metadata": {},
   "outputs": [],
   "source": [
    "sat_alts_list = []\n",
    "sat_azs_list = []\n",
    "sat_names = []\n",
    "# sun_alitude = []\n",
    "# sun_azimuth = []\n",
    "for norad_catid in list_of_sats:\n",
    "    try:\n",
    "        sats_catid = sats_all[int(norad_catid)]\n",
    "        alt_test = []\n",
    "        az_test = []\n",
    "        # sun_alt_test = []\n",
    "        # sun_az_test = []\n",
    "        for time_now in times:\n",
    "            topocentric = (sats_catid - observer_location).at(time_now)\n",
    "            alt, az, _ = topocentric.altaz()  \n",
    "            alt_test.append(alt.degrees)\n",
    "            az_test.append(az.degrees)\n",
    "            # sun = (get_sun(time_now.to_astropy()).icrs).transform_to(AltAz(obstime=time_now.to_astropy(),location=macquarie_observatory)) \n",
    "            # sun_alt_test.append(sun.alt.deg)\n",
    "            # sun_az_test.append(sun.az.deg)\n",
    "            \n",
    "        sat_names.append(norad_catid)\n",
    "        # sun_azimuth.append(sun_az_test)\n",
    "        # sun_alitude.append(sun_alt_test)\n",
    "        sat_alts_list.append(alt_test)\n",
    "        sat_azs_list.append(az_test)\n",
    "    except:\n",
    "        pass    "
   ]
  },
  {
   "cell_type": "code",
   "execution_count": 38,
   "id": "87820ed9-a1a0-4c62-9468-03e17fb9925c",
   "metadata": {},
   "outputs": [
    {
     "name": "stdout",
     "output_type": "stream",
     "text": [
      "Negative to positive transitions: 4\n"
     ]
    }
   ],
   "source": [
    "def count_negative_to_positive_transitions(alts):\n",
    "    transition_count = 0\n",
    "\n",
    "    for i in range(1, len(alts)):\n",
    "        if alts[i-1] < 0 and alts[i] > 0:\n",
    "            transition_count += 1\n",
    "\n",
    "    return transition_count\n",
    "\n",
    "result = count_negative_to_positive_transitions(sat_alts_list[0])\n",
    "print(f\"Negative to positive transitions: {result}\")"
   ]
  },
  {
   "cell_type": "code",
   "execution_count": null,
   "id": "32f96c50-9a10-4205-bdb3-1e9b7c0cf814",
   "metadata": {},
   "outputs": [],
   "source": []
  },
  {
   "cell_type": "code",
   "execution_count": 105,
   "id": "ed08de5b-8276-476f-a3cc-7c06d3475aa1",
   "metadata": {},
   "outputs": [],
   "source": [
    "for j in np.arange(0,len(sat_names[0])):\n",
    "    \n",
    "    cat_sat_name = sat_names[j]\n",
    "    sat_height = np.array([(570 + 540)/2]*len(times) * 1000)\n",
    "    satellite_heights = sat_height\n",
    "    observation_times = [dt.utc_iso().split('.') for dt in times]\n",
    "    satellite_altitudes = sat_alts_list[j]\n",
    "    satellite_azimuths = sat_azs_list[j]\n",
    "    measured_magnitudes = np.random.rand(len(satellite_azimuths))\n",
    "    \n",
    "    intensities_diffuse_sphere = np.zeros_like(measured_magnitudes)\n",
    "    intensities_lab_brdfs = np.zeros_like(measured_magnitudes)\n",
    "    intensities_inferred_brdfs = np.zeros_like(measured_magnitudes)\n",
    "    \n",
    "    sun_alt_list, sun_az_list = ([],[])\n",
    "    for i, (sat_alt, sat_az, sat_h, time) in \\\n",
    "        enumerate(zip(satellite_altitudes, satellite_azimuths, satellite_heights, observation_times)):\n",
    "        \n",
    "        observation_time = astropy.time.Time(time, format = 'isot')\n",
    "        sun_alt, sun_az = lumos.calculator.get_sun_alt_az(observation_time, macquarie_observatory)\n",
    "        sun_alt_list.append(sun_alt)\n",
    "        sun_az_list.append(sun_az)"
   ]
  },
  {
   "cell_type": "code",
   "execution_count": 107,
   "id": "d3a4801f-7c3a-419f-ae7b-9647690ad9ea",
   "metadata": {},
   "outputs": [
    {
     "ename": "KeyboardInterrupt",
     "evalue": "",
     "output_type": "error",
     "traceback": [
      "\u001b[0;31m---------------------------------------------------------------------------\u001b[0m",
      "\u001b[0;31mKeyboardInterrupt\u001b[0m                         Traceback (most recent call last)",
      "Cell \u001b[0;32mIn[107], line 19\u001b[0m\n\u001b[1;32m     11\u001b[0m intensities_lab_brdfs \u001b[38;5;241m=\u001b[39m np\u001b[38;5;241m.\u001b[39mzeros_like(measured_magnitudes)\n\u001b[1;32m     13\u001b[0m \u001b[38;5;28;01mfor\u001b[39;00m i, (sat_alt, sat_az, sat_h, time, sun_alt, sun_az) \u001b[38;5;129;01min\u001b[39;00m \\\n\u001b[1;32m     14\u001b[0m     \u001b[38;5;28menumerate\u001b[39m(\u001b[38;5;28mzip\u001b[39m(satellite_altitudes, satellite_azimuths, \n\u001b[1;32m     15\u001b[0m                   satellite_heights, observation_times,\n\u001b[1;32m     16\u001b[0m                  [item[\u001b[38;5;241m0\u001b[39m] \u001b[38;5;28;01mfor\u001b[39;00m item \u001b[38;5;129;01min\u001b[39;00m sun_alt_list],\n\u001b[1;32m     17\u001b[0m                  [item[\u001b[38;5;241m0\u001b[39m] \u001b[38;5;28;01mfor\u001b[39;00m item \u001b[38;5;129;01min\u001b[39;00m sun_az_list])):\n\u001b[0;32m---> 19\u001b[0m     observation_time \u001b[38;5;241m=\u001b[39m \u001b[43mastropy\u001b[49m\u001b[38;5;241;43m.\u001b[39;49m\u001b[43mtime\u001b[49m\u001b[38;5;241;43m.\u001b[39;49m\u001b[43mTime\u001b[49m\u001b[43m(\u001b[49m\u001b[43mtime\u001b[49m\u001b[43m,\u001b[49m\u001b[43m \u001b[49m\u001b[38;5;28;43mformat\u001b[39;49m\u001b[43m \u001b[49m\u001b[38;5;241;43m=\u001b[39;49m\u001b[43m \u001b[49m\u001b[38;5;124;43m'\u001b[39;49m\u001b[38;5;124;43misot\u001b[39;49m\u001b[38;5;124;43m'\u001b[39;49m\u001b[43m)\u001b[49m\n\u001b[1;32m     21\u001b[0m     intensities_lab_brdfs[i] \u001b[38;5;241m=\u001b[39m \\\n\u001b[1;32m     22\u001b[0m         lumos\u001b[38;5;241m.\u001b[39mcalculator\u001b[38;5;241m.\u001b[39mget_intensity_observer_frame(\n\u001b[1;32m     23\u001b[0m             starlink_v1p5\u001b[38;5;241m.\u001b[39mSURFACES_LAB_BRDFS,\n\u001b[1;32m     24\u001b[0m             sat_h, sat_alt, sat_az, sun_alt, sun_az,\n\u001b[1;32m     25\u001b[0m             include_earthshine \u001b[38;5;241m=\u001b[39m \u001b[38;5;28;01mTrue\u001b[39;00m,\n\u001b[1;32m     26\u001b[0m             earth_brdf\u001b[38;5;241m=\u001b[39mlumos\u001b[38;5;241m.\u001b[39mbrdf\u001b[38;5;241m.\u001b[39mlibrary\u001b[38;5;241m.\u001b[39mPHONG(\u001b[38;5;241m0.53\u001b[39m, \u001b[38;5;241m0.28\u001b[39m, \u001b[38;5;241m7.31\u001b[39m)) \u001b[38;5;66;03m# use the vegitation example that Forrest uses \u001b[39;00m\n\u001b[1;32m     28\u001b[0m magnitudes_lab_brdfs \u001b[38;5;241m=\u001b[39m lumos\u001b[38;5;241m.\u001b[39mconversions\u001b[38;5;241m.\u001b[39mintensity_to_ab_mag(intensities_lab_brdfs)\n",
      "File \u001b[0;32m/anaconda3/envs/satellites/lib/python3.10/site-packages/astropy/time/core.py:1858\u001b[0m, in \u001b[0;36mTime.__init__\u001b[0;34m(self, val, val2, format, scale, precision, in_subfmt, out_subfmt, location, copy)\u001b[0m\n\u001b[1;32m   1853\u001b[0m     \u001b[38;5;28mself\u001b[39m\u001b[38;5;241m.\u001b[39m_init_from_vals(\n\u001b[1;32m   1854\u001b[0m         val, val2, \u001b[38;5;28mformat\u001b[39m, scale, copy, precision, in_subfmt, out_subfmt\n\u001b[1;32m   1855\u001b[0m     )\n\u001b[1;32m   1856\u001b[0m     \u001b[38;5;28mself\u001b[39m\u001b[38;5;241m.\u001b[39mSCALES \u001b[38;5;241m=\u001b[39m TIME_TYPES[\u001b[38;5;28mself\u001b[39m\u001b[38;5;241m.\u001b[39mscale]\n\u001b[0;32m-> 1858\u001b[0m \u001b[38;5;28;01mif\u001b[39;00m \u001b[38;5;28mself\u001b[39m\u001b[38;5;241m.\u001b[39mlocation \u001b[38;5;129;01mis\u001b[39;00m \u001b[38;5;129;01mnot\u001b[39;00m \u001b[38;5;28;01mNone\u001b[39;00m \u001b[38;5;129;01mand\u001b[39;00m (\n\u001b[1;32m   1859\u001b[0m     \u001b[38;5;28mself\u001b[39m\u001b[38;5;241m.\u001b[39mlocation\u001b[38;5;241m.\u001b[39msize \u001b[38;5;241m>\u001b[39m \u001b[38;5;241m1\u001b[39m \u001b[38;5;129;01mand\u001b[39;00m \u001b[38;5;28mself\u001b[39m\u001b[38;5;241m.\u001b[39mlocation\u001b[38;5;241m.\u001b[39mshape \u001b[38;5;241m!=\u001b[39m \u001b[38;5;28mself\u001b[39m\u001b[38;5;241m.\u001b[39mshape\n\u001b[1;32m   1860\u001b[0m ):\n\u001b[1;32m   1861\u001b[0m     \u001b[38;5;28;01mtry\u001b[39;00m:\n\u001b[1;32m   1862\u001b[0m         \u001b[38;5;66;03m# check the location can be broadcast to self's shape.\u001b[39;00m\n\u001b[1;32m   1863\u001b[0m         \u001b[38;5;28mself\u001b[39m\u001b[38;5;241m.\u001b[39mlocation \u001b[38;5;241m=\u001b[39m np\u001b[38;5;241m.\u001b[39mbroadcast_to(\u001b[38;5;28mself\u001b[39m\u001b[38;5;241m.\u001b[39mlocation, \u001b[38;5;28mself\u001b[39m\u001b[38;5;241m.\u001b[39mshape, subok\u001b[38;5;241m=\u001b[39m\u001b[38;5;28;01mTrue\u001b[39;00m)\n",
      "\u001b[0;31mKeyboardInterrupt\u001b[0m: "
     ]
    }
   ],
   "source": [
    "for j in np.arange(0,len(sat_names)):\n",
    "    \n",
    "    cat_sat_name = sat_names[j]\n",
    "    sat_height = np.array([(570 + 540)/2]*len(times) * 1000)\n",
    "    satellite_heights = sat_height\n",
    "    observation_times = [dt.utc_iso().split('.') for dt in times]\n",
    "    satellite_altitudes = sat_alts_list[j]\n",
    "    satellite_azimuths = sat_azs_list[j]\n",
    "    measured_magnitudes = np.random.rand(len(satellite_azimuths))\n",
    "    \n",
    "    intensities_lab_brdfs = np.zeros_like(measured_magnitudes)\n",
    "    \n",
    "    for i, (sat_alt, sat_az, sat_h, time, sun_alt, sun_az) in \\\n",
    "        enumerate(zip(satellite_altitudes, satellite_azimuths, \n",
    "                      satellite_heights, observation_times,\n",
    "                     [item[0] for item in sun_alt_list],\n",
    "                     [item[0] for item in sun_az_list])):\n",
    "        \n",
    "        observation_time = astropy.time.Time(time, format = 'isot')\n",
    "        \n",
    "        intensities_lab_brdfs[i] = \\\n",
    "            lumos.calculator.get_intensity_observer_frame(\n",
    "                starlink_v1p5.SURFACES_LAB_BRDFS,\n",
    "                sat_h, sat_alt, sat_az, sun_alt, sun_az,\n",
    "                include_earthshine = True,\n",
    "                earth_brdf=lumos.brdf.library.PHONG(0.53, 0.28, 7.31)) # use the vegitation example that Forrest uses \n",
    "    \n",
    "    magnitudes_lab_brdfs = lumos.conversions.intensity_to_ab_mag(intensities_lab_brdfs)\n",
    "\n",
    "    big_dict = {'sun_altitude':[item[0] for item in sun_alt_list],\n",
    "                'sun_azimuth':[item[0] for item in sun_az_list],\n",
    "                'magnitude':list(magnitudes_lab_brdfs),\n",
    "                'sat_altitude':satellite_altitudes,\n",
    "                'sat_azimuth':satellite_azimuths,\n",
    "                'times':[item[0] for item in observation_times],\n",
    "                'cat_name':[cat_sat_name]*len(observation_times)}\n",
    "    \n",
    "\n",
    "    append_record(big_dict, '/Users/physarah/Desktop/sat_paths.json')"
   ]
  },
  {
   "cell_type": "code",
   "execution_count": null,
   "id": "f3cf3dc3-b20d-40b8-b004-240658c58d21",
   "metadata": {},
   "outputs": [],
   "source": []
  },
  {
   "cell_type": "code",
   "execution_count": null,
   "id": "1ba3b846-869f-44d1-869c-793b3a3d3448",
   "metadata": {},
   "outputs": [],
   "source": []
  },
  {
   "cell_type": "code",
   "execution_count": null,
   "id": "e99d8de5-3fb0-43ff-b6b0-7bae211505e5",
   "metadata": {},
   "outputs": [],
   "source": []
  }
 ],
 "metadata": {
  "kernelspec": {
   "display_name": "Python 3 (ipykernel)",
   "language": "python",
   "name": "python3"
  },
  "language_info": {
   "codemirror_mode": {
    "name": "ipython",
    "version": 3
   },
   "file_extension": ".py",
   "mimetype": "text/x-python",
   "name": "python",
   "nbconvert_exporter": "python",
   "pygments_lexer": "ipython3",
   "version": "3.10.13"
  }
 },
 "nbformat": 4,
 "nbformat_minor": 5
}
