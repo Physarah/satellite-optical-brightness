{
 "cells": [
  {
   "cell_type": "code",
   "execution_count": 1,
   "id": "b9d86550-6a9c-4a24-b242-cb13aa7dfd86",
   "metadata": {},
   "outputs": [],
   "source": [
    "import pandas as pd\n",
    "import numpy as np \n",
    "import matplotlib.pyplot as plt\n",
    "import pytz\n",
    "import astropy\n",
    "import sys\n",
    "import astropy.units as u\n",
    "from skyfield.api import Topos, load, EarthSatellite\n",
    "from datetime import datetime, timedelta\n",
    "from astropy.coordinates import get_body, get_sun, EarthLocation, SkyCoord, AltAz\n",
    "sys.path.append('/Users/physarah/Development/forrest_test')\n",
    "import lumos.calculator\n",
    "import lumos.conversions\n",
    "import lumos.constants\n",
    "\n",
    "\n",
    "import json\n",
    "import os\n",
    "sys.path.append('/Users/physarah/Development/satellite-optical-brightness/analysis')\n",
    "\n",
    "import satellite_models.diffuse_sphere as diffuse_sphere\n",
    "import satellite_models.starlink_v1p5 as starlink_v1p5\n",
    "\n",
    "def append_record(record, file):\n",
    "    with open(file, 'a') as f:\n",
    "        json.dump(record, f)\n",
    "        f.write(os.linesep)"
   ]
  },
  {
   "cell_type": "code",
   "execution_count": 2,
   "id": "48f31a03-408e-48b3-a566-24680d2f1116",
   "metadata": {},
   "outputs": [],
   "source": [
    "observer_location = Topos('33.7703 S', '151.1112 E', elevation_m=70)\n",
    "macquarie_observatory = EarthLocation(lat=-33.7703*u.deg, lon=151.1112*u.deg, height=70*u.m)\n",
    "\n",
    "sat_cat = \"/Users/physarah/Development/satellite-optical-brightness/data/brightness_config_list.csv\"\n",
    "open_list = pd.read_csv(sat_cat)\n",
    "ts = load.timescale()"
   ]
  },
  {
   "cell_type": "code",
   "execution_count": 3,
   "id": "2a38bc5a-5468-4d31-988c-9d70ee4dffb6",
   "metadata": {},
   "outputs": [],
   "source": [
    "cleaned_list = open_list[6:-1] # Do this because there is text at the top of the file"
   ]
  },
  {
   "cell_type": "code",
   "execution_count": 4,
   "id": "7b36d769-03dd-4282-a0dd-14e743f6f859",
   "metadata": {},
   "outputs": [],
   "source": [
    "list_of_sats = cleaned_list['# This file contains a list of NORAD CAT IDs'].to_list()"
   ]
  },
  {
   "cell_type": "code",
   "execution_count": 5,
   "id": "ae324e54-a22f-4780-a80d-2c621459cc0f",
   "metadata": {},
   "outputs": [],
   "source": [
    "pos_url = 'https://celestrak.org/NORAD/elements/gp.php?GROUP=starlink&FORMAT=tle'\n",
    "sats_all = load.tle(pos_url)"
   ]
  },
  {
   "cell_type": "code",
   "execution_count": 6,
   "id": "5125b6ec-1369-4ac5-b5b1-ccbaf2446b1d",
   "metadata": {},
   "outputs": [],
   "source": [
    "def generate_datetime_range(start_time, end_time, interval):\n",
    "    \"\"\"\n",
    "    Generate a list of datetimes between start_time and end_time at a given interval.\n",
    "    \"\"\"\n",
    "    current_time = start_time\n",
    "    datetime_list = []\n",
    "\n",
    "    while current_time <= end_time:\n",
    "        datetime_list.append(current_time)# - timedelta(hours = time_delta))\n",
    "        current_time += interval\n",
    "\n",
    "    return datetime_list\n",
    "\n",
    "start_time = datetime(2024, 6, 10, 0, 0, 1)  \n",
    "end_time = datetime(2024, 6, 11, 0, 0, 1)   \n",
    "#time_interval = timedelta(minutes=1)          \n",
    "time_interval = timedelta(minutes=1)          \n",
    "\n",
    "list_of_times = generate_datetime_range(start_time, end_time, time_interval)\n",
    "times = []\n",
    "for timestamp_pd in list_of_times:\n",
    "    TIME_PD = timestamp_pd.replace(tzinfo=pytz.utc)\n",
    "    time_sf = ts.utc(TIME_PD)\n",
    "    times.append(time_sf)"
   ]
  },
  {
   "cell_type": "code",
   "execution_count": 7,
   "id": "4ad19bdd-2d85-4475-8e68-30afb3756bce",
   "metadata": {},
   "outputs": [],
   "source": [
    "sat_alts_list = []\n",
    "sat_azs_list = []\n",
    "sat_names = []\n",
    "sat_height_list = []\n",
    "\n",
    "for norad_catid in list_of_sats:\n",
    "    try:\n",
    "        sats_catid = sats_all[int(norad_catid)]\n",
    "        alt_test = []\n",
    "        az_test = []\n",
    "        sat_height = []\n",
    "        sat_names_indi = []\n",
    "        for time_now in times:\n",
    "            topocentric = (sats_catid - observer_location).at(time_now)\n",
    "            position = sats_catid.at(time_now)\n",
    "            distance_to_satellite_m = position.distance().m - lumos.constants.EARTH_RADIUS\n",
    "            alt, az, _ = topocentric.altaz()  \n",
    "            alt_test.append(alt.degrees)\n",
    "            az_test.append(az.degrees)\n",
    "            sat_height.append(distance_to_satellite_m)\n",
    "            sat_names_indi.append(norad_catid)\n",
    "            \n",
    "        sat_names.append(sat_names_indi)\n",
    "        sat_alts_list.append(alt_test)\n",
    "        sat_azs_list.append(az_test)\n",
    "        sat_height_list.append(sat_height)\n",
    "    except:\n",
    "        pass    "
   ]
  },
  {
   "cell_type": "code",
   "execution_count": 8,
   "id": "87820ed9-a1a0-4c62-9468-03e17fb9925c",
   "metadata": {},
   "outputs": [
    {
     "name": "stdout",
     "output_type": "stream",
     "text": [
      "Negative to positive transitions: 6\n"
     ]
    }
   ],
   "source": [
    "def count_negative_to_positive_transitions(alts):\n",
    "    transition_count = 0\n",
    "\n",
    "    for i in range(1, len(alts)):\n",
    "        if alts[i-1] < 0 and alts[i] > 0:\n",
    "            transition_count += 1\n",
    "\n",
    "    return transition_count\n",
    "\n",
    "result = count_negative_to_positive_transitions(sat_alts_list[0])\n",
    "print(f\"Negative to positive transitions: {result}\")"
   ]
  },
  {
   "cell_type": "code",
   "execution_count": 9,
   "id": "32f96c50-9a10-4205-bdb3-1e9b7c0cf814",
   "metadata": {},
   "outputs": [],
   "source": [
    "def flatten_list(nested_list):\n",
    "    flattened_list = [item for sublist in nested_list for item in sublist]\n",
    "    return(flattened_list)"
   ]
  },
  {
   "cell_type": "code",
   "execution_count": 10,
   "id": "2f800e2e-0bed-45c1-a9c4-80607017917c",
   "metadata": {},
   "outputs": [],
   "source": [
    "input_sat_ID = flatten_list(sat_names)\n",
    "input_sat_altitude = flatten_list(sat_alts_list)\n",
    "input_sat_azimuth = flatten_list(sat_azs_list)\n",
    "input_sat_height = flatten_list(sat_height_list)"
   ]
  },
  {
   "cell_type": "code",
   "execution_count": 11,
   "id": "38021f0b-94ed-41b8-badf-4d76859affae",
   "metadata": {},
   "outputs": [],
   "source": [
    "observation_times = [dt.utc_iso().split('.') for dt in times]\n",
    "\n",
    "sun_alt_list, sun_az_list = ([],[])\n",
    "for i, (time) in \\\n",
    "    enumerate(zip(observation_times)):\n",
    "    observation_time = astropy.time.Time(time, format = 'isot')\n",
    "    sun_alt, sun_az = lumos.calculator.get_sun_alt_az(observation_time, macquarie_observatory)\n",
    "    sun_alt_list.append(sun_alt)\n",
    "    sun_az_list.append(sun_az)"
   ]
  },
  {
   "cell_type": "code",
   "execution_count": 12,
   "id": "3974026c-d2b4-4e62-99f1-82d82f48d35b",
   "metadata": {},
   "outputs": [],
   "source": [
    "input_sun_altitude = [float(item[0]) for item in sun_alt_list] * len(set(input_sat_ID))\n",
    "input_sun_azimuth = [float(item[0]) for item in sun_az_list] * len(set(input_sat_ID))\n",
    "input_times = times * len(set(input_sat_ID))"
   ]
  },
  {
   "cell_type": "code",
   "execution_count": null,
   "id": "d6395c48-89c3-4216-b4f6-e626b5d63e06",
   "metadata": {},
   "outputs": [],
   "source": []
  },
  {
   "cell_type": "code",
   "execution_count": 13,
   "id": "2bde9f2f-251f-4157-bb9c-265807cbe752",
   "metadata": {},
   "outputs": [],
   "source": [
    "terminator_angle = []\n",
    "for j in np.arange(0,len(input_times)):\n",
    "    \n",
    "    i_input_sat_ID = input_sat_ID[j]\n",
    "    i_input_sat_height = input_sat_height[j]\n",
    "    i_input_times = input_times[j]\n",
    "    i_input_sat_altitude = input_sat_altitude[j]\n",
    "    i_input_sat_azimuth = input_sat_azimuth[j]\n",
    "    i_input_sun_altitude = input_sun_altitude[j]\n",
    "    i_input_sun_azimuth = input_sun_azimuth[j]\n",
    "    (s1, s2, s3, term_theta) = lumos.calculator.get_brightness_coords(i_input_sat_altitude, \n",
    "                                           i_input_sat_azimuth, \n",
    "                                           i_input_sat_height, \n",
    "                                           i_input_sun_altitude, \n",
    "                  \n",
    "                                                                      i_input_sun_azimuth)\n",
    "    terminator_angle.append(term_theta)"
   ]
  },
  {
   "cell_type": "code",
   "execution_count": 14,
   "id": "d3a4801f-7c3a-419f-ae7b-9647690ad9ea",
   "metadata": {},
   "outputs": [],
   "source": [
    "for j in np.arange(0,len(input_times)):\n",
    "    \n",
    "    i_input_sat_ID = input_sat_ID[j]\n",
    "    i_input_sat_height = input_sat_height[j]\n",
    "    i_input_times = input_times[j]\n",
    "    i_input_sat_altitude = input_sat_altitude[j]\n",
    "    i_input_sat_azimuth = input_sat_azimuth[j]\n",
    "    i_input_sun_altitude = input_sun_altitude[j]\n",
    "    i_input_sun_azimuth = input_sun_azimuth[j]\n",
    "      \n",
    "    i_input_times_format = i_input_times.utc_iso()\n",
    "        \n",
    "    intensities_lab_brdfs = lumos.calculator.get_intensity_observer_frame(\n",
    "            starlink_v1p5.SURFACES_LAB_BRDFS,\n",
    "            i_input_sat_height, \n",
    "            i_input_sat_altitude, \n",
    "            i_input_sat_azimuth,\n",
    "            i_input_sun_altitude,\n",
    "            i_input_sun_azimuth,\n",
    "            include_earthshine = True,\n",
    "            earth_brdf=lumos.brdf.library.PHONG(0.53, 0.28, 7.31)) # use the vegitation example that Forrest uses \n",
    "    \n",
    "    magnitudes_lab_brdfs = lumos.conversions.intensity_to_ab_mag(intensities_lab_brdfs)\n",
    "\n",
    "    big_dict = {'sun_altitude':i_input_sun_altitude,\n",
    "                'sun_azimuth':i_input_sun_azimuth,\n",
    "                'sat_height':i_input_sat_height,\n",
    "                'magnitude':magnitudes_lab_brdfs,\n",
    "                'sat_altitude':i_input_sat_altitude,\n",
    "                'sat_azimuth':i_input_sat_azimuth,\n",
    "                'times':i_input_times_format,\n",
    "                'cat_name':i_input_sat_ID}\n",
    "    \n",
    "\n",
    "    append_record(big_dict, '/Users/physarah/Desktop/LAB_BRDF_winter_time22222.json')"
   ]
  },
  {
   "cell_type": "code",
   "execution_count": null,
   "id": "1ba3b846-869f-44d1-869c-793b3a3d3448",
   "metadata": {},
   "outputs": [],
   "source": []
  },
  {
   "cell_type": "code",
   "execution_count": null,
   "id": "e99d8de5-3fb0-43ff-b6b0-7bae211505e5",
   "metadata": {},
   "outputs": [],
   "source": []
  },
  {
   "cell_type": "code",
   "execution_count": null,
   "id": "d575b46b-404d-4de0-a49c-5db788e53d85",
   "metadata": {},
   "outputs": [],
   "source": []
  },
  {
   "cell_type": "code",
   "execution_count": null,
   "id": "f2e18e98-3690-477f-93da-7234fadd6b98",
   "metadata": {},
   "outputs": [],
   "source": []
  }
 ],
 "metadata": {
  "kernelspec": {
   "display_name": "Python 3 (ipykernel)",
   "language": "python",
   "name": "python3"
  },
  "language_info": {
   "codemirror_mode": {
    "name": "ipython",
    "version": 3
   },
   "file_extension": ".py",
   "mimetype": "text/x-python",
   "name": "python",
   "nbconvert_exporter": "python",
   "pygments_lexer": "ipython3",
   "version": "3.10.13"
  }
 },
 "nbformat": 4,
 "nbformat_minor": 5
}
