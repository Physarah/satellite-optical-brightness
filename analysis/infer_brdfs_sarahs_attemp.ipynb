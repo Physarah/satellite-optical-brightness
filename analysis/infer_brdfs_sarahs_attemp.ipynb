{
 "cells": [
  {
   "attachments": {},
   "cell_type": "markdown",
   "metadata": {},
   "source": [
    "### BRDF from Brightness Observation\n",
    "This code infers the BRDFs of the Starlink v1.5's primary surfaces\n",
    "by reducing the error between observation and model prediction. The\n",
    "BRDFs are assumed to be Phong BRDFs with 3 free parameters."
   ]
  },
  {
   "cell_type": "code",
   "execution_count": 23,
   "metadata": {},
   "outputs": [],
   "source": [
    "# Imports\n",
    "import pandas as pd\n",
    "import numpy as np\n",
    "import astropy.time\n",
    "import astropy.coordinates\n",
    "import scipy.optimize\n",
    "from lumos.geometry import Surface\n",
    "import lumos.brdf.library"
   ]
  },
  {
   "cell_type": "code",
   "execution_count": 24,
   "metadata": {},
   "outputs": [
    {
     "data": {
      "text/plain": [
       "Index(['Unnamed: 0.5', 'Unnamed: 0.4', 'Unnamed: 0.3', 'Unnamed: 0.2',\n",
       "       'Unnamed: 0.1', 'Unnamed: 0', 'source_mean', 'source_median',\n",
       "       'source_sum', 'source_rate', 'sky_mean', 'sky_median', 'sky_sum',\n",
       "       'sky_rate', 'target_mean', 'target_median', 'target_sum', 'target_rate',\n",
       "       'sc_area', 'bk_area', 'exposure_time', 'datetimes_sat', 'gains_sat',\n",
       "       'airmass', 'm_inst', 'm_inst_sky', 'calibed_mags', 'altitude',\n",
       "       'azimuth', 'utc', 'zenith_angle', 'km_distance', 'sunsep', 'sat_name',\n",
       "       'norad_id', 'v_type', 'tle_filename', 'tle1', 'tle2', 'tle3',\n",
       "       'altitude2', 'azimuth2', 'forest_time', 'line_distance', 'sat_height',\n",
       "       'longitude', 'latitude', 'forrest_magnitudes_lambertian_09',\n",
       "       'forrest_magnitudes_green', 'forrest_magnitudes', 'sun_alt', 'sun_az',\n",
       "       'updated_prediction_mag', 'updated_pred_mag'],\n",
       "      dtype='object')"
      ]
     },
     "execution_count": 24,
     "metadata": {},
     "output_type": "execute_result"
    }
   ],
   "source": [
    "data = pd.read_csv(\"/Users/physarah/Desktop/updated_model_with_area.csv\", comment = \"#\")\n",
    "data.columns"
   ]
  },
  {
   "cell_type": "code",
   "execution_count": 25,
   "metadata": {},
   "outputs": [],
   "source": [
    "# Read Sarah's database\n",
    "data = data[data['v_type']=='V2.0 mini']\n",
    "satellite_heights = data['sat_height'].to_numpy()\n",
    "observation_times = data['datetimes_sat'].to_numpy()\n",
    "satellite_altitudes = data['altitude2'].to_numpy()\n",
    "satellite_azimuths = data['azimuth2'].to_numpy()\n",
    "measured_magnitudes = data['updated_pred_mag'].to_numpy()\n",
    "sun_alts = data['sun_alt'].to_numpy()\n",
    "sun_azs = data['sun_az'].to_numpy()\n",
    "mount_lemmon = astropy.coordinates.EarthLocation(lat = -33.7703, lon = 151.1112)"
   ]
  },
  {
   "cell_type": "code",
   "execution_count": 26,
   "metadata": {},
   "outputs": [],
   "source": [
    "# # Converts from observation time to Sun's altitude and azimuth\n",
    "# sun_alts = []\n",
    "# sun_azs = []\n",
    "# for time in observation_times:\n",
    "#     obs_time = astropy.time.Time(time, format = 'isot')\n",
    "#     sun_alt, sun_az = lumos.calculator.get_sun_alt_az(obs_time, mount_lemmon)\n",
    "#     sun_alts.append(sun_alt)\n",
    "#     sun_azs.append(sun_az)"
   ]
  },
  {
   "cell_type": "code",
   "execution_count": 30,
   "metadata": {},
   "outputs": [
    {
     "name": "stdout",
     "output_type": "stream",
     "text": [
      "RMS = 0.344\n"
     ]
    }
   ],
   "source": [
    "# Main function to minimize RMS between model prediction and observations\n",
    "def optimization(params):\n",
    "\n",
    "    p1, p2, p3, p4, p5, p6 = params\n",
    "\n",
    "    calculated_intensities = np.zeros_like(measured_magnitudes)\n",
    "\n",
    "    # Sets up surfaces of satellite, one for the chassis and one for the solar array\n",
    "    # Phong parameters, p1 - p6 vary\n",
    "    surfaces = [\n",
    "        Surface(1, np.array([0, 0, -1]), lumos.brdf.library.PHONG(p1, p2, p3)),\n",
    "        Surface(1, np.array([0, 1, 0]), lumos.brdf.library.PHONG(p4, p5, p6))\n",
    "        ]\n",
    "\n",
    "    # Calculates predicted AB Mag for every observation\n",
    "    for i, (sat_alt, sat_az, sat_h, sun_alt, sun_az) \\\n",
    "        in enumerate(zip(satellite_altitudes, satellite_azimuths, satellite_heights, sun_alts, sun_azs)):\n",
    "\n",
    "        calculated_intensities[i] = lumos.calculator.get_intensity_observer_frame(\n",
    "            surfaces,\n",
    "            sat_h,\n",
    "            sat_alt,\n",
    "            sat_az,\n",
    "            sun_alt,\n",
    "            sun_az,\n",
    "            include_sun = True,\n",
    "            include_earthshine = False,\n",
    "            earth_brdf = lumos.brdf.library.PHONG(0.53, 0.28, 7.31),\n",
    "            earth_panel_density=300\n",
    "            )\n",
    "    \n",
    "    calculated_magnitudes = lumos.conversions.intensity_to_ab_mag(calculated_intensities)\n",
    "\n",
    "    # Return RMS between prediction and actual observation\n",
    "    error = calculated_magnitudes - measured_magnitudes\n",
    "    rms = np.sqrt( np.mean( error**2 ) )\n",
    "    return rms\n",
    "\n",
    "sol = scipy.optimize.minimize(\n",
    "    optimization,\n",
    "    x0 = (1, 1, 1, 1, 1, 1),\n",
    "    bounds = ( (0, 20), (0, 20), (0, 200), \n",
    "               (0, 20), (0, 20), (0, 200)) )\n",
    "\n",
    "Kd1, Ks1, n1, Kd2, Ks2, n2 = sol.x\n",
    "print(f\"RMS = {sol.fun:0.3f}\")"
   ]
  },
  {
   "cell_type": "code",
   "execution_count": 31,
   "metadata": {},
   "outputs": [
    {
     "name": "stdout",
     "output_type": "stream",
     "text": [
      "Chassis Inferred BRDF Parameters\n",
      "------------------------------------\n",
      "Kd = 1.00\n",
      "Ks = 1.00\n",
      "n = 1.00\n",
      "Solar Array Inferred BRDF Parameters\n",
      "------------------------------------\n",
      "Kd = 3.75\n",
      "Ks = 0.89\n",
      "n = 29.59\n"
     ]
    }
   ],
   "source": [
    "print(\"Chassis Inferred BRDF Parameters\")\n",
    "print(\"------------------------------------\")\n",
    "print(f\"Kd = {Kd1:0.2f}\")\n",
    "print(f\"Ks = {Ks1:0.2f}\")\n",
    "print(f\"n = {n1:0.2f}\")\n",
    "\n",
    "print(\"Solar Array Inferred BRDF Parameters\")\n",
    "print(\"------------------------------------\")\n",
    "print(f\"Kd = {Kd2:0.2f}\")\n",
    "print(f\"Ks = {Ks2:0.2f}\")\n",
    "print(f\"n = {n2:0.2f}\")"
   ]
  },
  {
   "cell_type": "code",
   "execution_count": null,
   "metadata": {},
   "outputs": [],
   "source": []
  }
 ],
 "metadata": {
  "kernelspec": {
   "display_name": "Python 3 (ipykernel)",
   "language": "python",
   "name": "python3"
  },
  "language_info": {
   "codemirror_mode": {
    "name": "ipython",
    "version": 3
   },
   "file_extension": ".py",
   "mimetype": "text/x-python",
   "name": "python",
   "nbconvert_exporter": "python",
   "pygments_lexer": "ipython3",
   "version": "3.10.13"
  }
 },
 "nbformat": 4,
 "nbformat_minor": 4
}
